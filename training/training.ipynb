{
 "cells": [
  {
   "cell_type": "code",
   "execution_count": 1,
   "id": "29cefe13-a92f-411f-970d-efde2307bd7b",
   "metadata": {},
   "outputs": [
    {
     "name": "stderr",
     "output_type": "stream",
     "text": [
      "/home/fragsap/projects/joney-bot/training/venv/lib/python3.13/site-packages/tqdm/auto.py:21: TqdmWarning: IProgress not found. Please update jupyter and ipywidgets. See https://ipywidgets.readthedocs.io/en/stable/user_install.html\n",
      "  from .autonotebook import tqdm as notebook_tqdm\n"
     ]
    },
    {
     "name": "stdout",
     "output_type": "stream",
     "text": [
      "🦥 Unsloth: Will patch your computer to enable 2x faster free finetuning.\n",
      "🦥 Unsloth Zoo will now patch everything to make training faster!\n",
      "==((====))==  Unsloth 2025.9.4: Fast Mistral patching. Transformers: 4.56.1.\n",
      "   \\\\   /|    NVIDIA GeForce RTX 3060. Num GPUs = 1. Max memory: 11.609 GB. Platform: Linux.\n",
      "O^O/ \\_/ \\    Torch: 2.8.0+cu128. CUDA: 8.6. CUDA Toolkit: 12.8. Triton: 3.4.0\n",
      "\\        /    Bfloat16 = TRUE. FA [Xformers = 0.0.32.post2. FA2 = False]\n",
      " \"-____-\"     Free license: http://github.com/unslothai/unsloth\n",
      "Unsloth: Fast downloading is enabled - ignore downloading bars which are red colored!\n"
     ]
    }
   ],
   "source": [
    "from unsloth import FastLanguageModel\n",
    "\n",
    "model, tokenizer = FastLanguageModel.from_pretrained(\n",
    "    model_name = 'unsloth/Phi-3-mini-4k-instruct-bnb-4bit',\n",
    "    max_seq_length = 2048,\n",
    "    dtype = None,\n",
    "    load_in_4bit = True\n",
    ")"
   ]
  },
  {
   "cell_type": "code",
   "execution_count": 3,
   "id": "fd0fa735-a18f-44f7-a5a8-c9fe1e2b690b",
   "metadata": {},
   "outputs": [
    {
     "name": "stderr",
     "output_type": "stream",
     "text": [
      "Map: 100%|██████████████████████████████████████████████████████████████████████████████| 518/518 [00:00<00:00, 13782.00 examples/s]\n"
     ]
    }
   ],
   "source": [
    "import json\n",
    "from datasets import Dataset\n",
    "\n",
    "with open(\"data.json\", \"r\", encoding=\"utf-8\") as f:\n",
    "    data = json.load(f)\n",
    "\n",
    "ds = Dataset.from_list(data)\n",
    "\n",
    "def to_text(ex):\n",
    "    resp = ex[\"label\"]\n",
    "    if not isinstance(resp, str):\n",
    "        resp = json.dumps(resp, ensure_ascii=False)\n",
    "    msgs = [\n",
    "        {\"role\": \"user\", \"content\": ex[\"text\"]},\n",
    "        {\"role\": \"assistant\", \"content\": resp},\n",
    "    ]\n",
    "    return {\n",
    "        \"text\": tokenizer.apply_chat_template(\n",
    "            msgs, tokenize=False, add_generation_prompt=False\n",
    "        )\n",
    "    }\n",
    "\n",
    "dataset = ds.map(to_text, remove_columns=ds.column_names)"
   ]
  },
  {
   "cell_type": "code",
   "execution_count": 4,
   "id": "fc601a78-9f96-4d35-94fb-22d547331bb1",
   "metadata": {},
   "outputs": [
    {
     "name": "stderr",
     "output_type": "stream",
     "text": [
      "Unsloth 2025.9.4 patched 32 layers with 32 QKV layers, 32 O layers and 32 MLP layers.\n"
     ]
    }
   ],
   "source": [
    "# Config From GitHub (without seed)\n",
    "model = FastLanguageModel.get_peft_model(\n",
    "    model,\n",
    "    r = 64,  # rank of matrices (for LoRA)\n",
    "    target_modules=[\n",
    "        'q_proj', 'k_proj', 'v_proj', 'o_proj',\n",
    "        'gate_proj', 'up_proj', 'down_proj',\n",
    "    ],  # which layers to inject LoRA into\n",
    "    lora_alpha = 64 * 2,  # scaling factor, usually 2x rank\n",
    "    lora_dropout = 0,  # no dropout, increase for regularizaiton\n",
    "    bias = 'none',  # bias stays frozen, only learn the low-rank matrices\n",
    "    use_gradient_checkpointing = 'unsloth',  # activate custom checkpointing scheme of Unsloth -> higher compute but less GPU memory when backpropagating\n",
    ")"
   ]
  },
  {
   "cell_type": "code",
   "execution_count": 5,
   "id": "f73a0660-1e7a-40bb-bc64-94799fa97a9a",
   "metadata": {},
   "outputs": [
    {
     "name": "stderr",
     "output_type": "stream",
     "text": [
      "Unsloth: Tokenizing [\"text\"] (num_proc=20): 100%|█████████████████████████████████████████| 518/518 [00:00<00:00, 993.78 examples/s]\n",
      "==((====))==  Unsloth - 2x faster free finetuning | Num GPUs used = 1\n",
      "   \\\\   /|    Num examples = 518 | Num Epochs = 1 | Total steps = 60\n",
      "O^O/ \\_/ \\    Batch size per device = 2 | Gradient accumulation steps = 4\n",
      "\\        /    Data Parallel GPUs = 1 | Total batch size (2 x 4 x 1) = 8\n",
      " \"-____-\"     Trainable parameters = 119,537,664 of 3,940,617,216 (3.03% trained)\n"
     ]
    },
    {
     "data": {
      "text/html": [
       "\n",
       "    <div>\n",
       "      \n",
       "      <progress value='60' max='60' style='width:300px; height:20px; vertical-align: middle;'></progress>\n",
       "      [60/60 02:03, Epoch 0/1]\n",
       "    </div>\n",
       "    <table border=\"1\" class=\"dataframe\">\n",
       "  <thead>\n",
       " <tr style=\"text-align: left;\">\n",
       "      <th>Step</th>\n",
       "      <th>Training Loss</th>\n",
       "    </tr>\n",
       "  </thead>\n",
       "  <tbody>\n",
       "    <tr>\n",
       "      <td>1</td>\n",
       "      <td>3.719900</td>\n",
       "    </tr>\n",
       "    <tr>\n",
       "      <td>2</td>\n",
       "      <td>3.578200</td>\n",
       "    </tr>\n",
       "    <tr>\n",
       "      <td>3</td>\n",
       "      <td>3.352900</td>\n",
       "    </tr>\n",
       "    <tr>\n",
       "      <td>4</td>\n",
       "      <td>3.496800</td>\n",
       "    </tr>\n",
       "    <tr>\n",
       "      <td>5</td>\n",
       "      <td>3.645600</td>\n",
       "    </tr>\n",
       "    <tr>\n",
       "      <td>6</td>\n",
       "      <td>2.982800</td>\n",
       "    </tr>\n",
       "    <tr>\n",
       "      <td>7</td>\n",
       "      <td>3.144700</td>\n",
       "    </tr>\n",
       "    <tr>\n",
       "      <td>8</td>\n",
       "      <td>2.711500</td>\n",
       "    </tr>\n",
       "    <tr>\n",
       "      <td>9</td>\n",
       "      <td>2.687900</td>\n",
       "    </tr>\n",
       "    <tr>\n",
       "      <td>10</td>\n",
       "      <td>2.417900</td>\n",
       "    </tr>\n",
       "    <tr>\n",
       "      <td>11</td>\n",
       "      <td>2.131200</td>\n",
       "    </tr>\n",
       "    <tr>\n",
       "      <td>12</td>\n",
       "      <td>2.046700</td>\n",
       "    </tr>\n",
       "    <tr>\n",
       "      <td>13</td>\n",
       "      <td>1.577300</td>\n",
       "    </tr>\n",
       "    <tr>\n",
       "      <td>14</td>\n",
       "      <td>1.544700</td>\n",
       "    </tr>\n",
       "    <tr>\n",
       "      <td>15</td>\n",
       "      <td>1.245100</td>\n",
       "    </tr>\n",
       "    <tr>\n",
       "      <td>16</td>\n",
       "      <td>1.247800</td>\n",
       "    </tr>\n",
       "    <tr>\n",
       "      <td>17</td>\n",
       "      <td>1.061200</td>\n",
       "    </tr>\n",
       "    <tr>\n",
       "      <td>18</td>\n",
       "      <td>1.180100</td>\n",
       "    </tr>\n",
       "    <tr>\n",
       "      <td>19</td>\n",
       "      <td>0.839800</td>\n",
       "    </tr>\n",
       "    <tr>\n",
       "      <td>20</td>\n",
       "      <td>1.137200</td>\n",
       "    </tr>\n",
       "    <tr>\n",
       "      <td>21</td>\n",
       "      <td>0.840200</td>\n",
       "    </tr>\n",
       "    <tr>\n",
       "      <td>22</td>\n",
       "      <td>0.855300</td>\n",
       "    </tr>\n",
       "    <tr>\n",
       "      <td>23</td>\n",
       "      <td>0.999400</td>\n",
       "    </tr>\n",
       "    <tr>\n",
       "      <td>24</td>\n",
       "      <td>1.055700</td>\n",
       "    </tr>\n",
       "    <tr>\n",
       "      <td>25</td>\n",
       "      <td>0.934500</td>\n",
       "    </tr>\n",
       "    <tr>\n",
       "      <td>26</td>\n",
       "      <td>0.833800</td>\n",
       "    </tr>\n",
       "    <tr>\n",
       "      <td>27</td>\n",
       "      <td>0.895100</td>\n",
       "    </tr>\n",
       "    <tr>\n",
       "      <td>28</td>\n",
       "      <td>1.006000</td>\n",
       "    </tr>\n",
       "    <tr>\n",
       "      <td>29</td>\n",
       "      <td>0.894200</td>\n",
       "    </tr>\n",
       "    <tr>\n",
       "      <td>30</td>\n",
       "      <td>1.053700</td>\n",
       "    </tr>\n",
       "    <tr>\n",
       "      <td>31</td>\n",
       "      <td>0.895200</td>\n",
       "    </tr>\n",
       "    <tr>\n",
       "      <td>32</td>\n",
       "      <td>0.950000</td>\n",
       "    </tr>\n",
       "    <tr>\n",
       "      <td>33</td>\n",
       "      <td>0.824800</td>\n",
       "    </tr>\n",
       "    <tr>\n",
       "      <td>34</td>\n",
       "      <td>0.814100</td>\n",
       "    </tr>\n",
       "    <tr>\n",
       "      <td>35</td>\n",
       "      <td>0.780900</td>\n",
       "    </tr>\n",
       "    <tr>\n",
       "      <td>36</td>\n",
       "      <td>0.834300</td>\n",
       "    </tr>\n",
       "    <tr>\n",
       "      <td>37</td>\n",
       "      <td>0.849900</td>\n",
       "    </tr>\n",
       "    <tr>\n",
       "      <td>38</td>\n",
       "      <td>0.769100</td>\n",
       "    </tr>\n",
       "    <tr>\n",
       "      <td>39</td>\n",
       "      <td>0.793500</td>\n",
       "    </tr>\n",
       "    <tr>\n",
       "      <td>40</td>\n",
       "      <td>0.768800</td>\n",
       "    </tr>\n",
       "    <tr>\n",
       "      <td>41</td>\n",
       "      <td>0.850300</td>\n",
       "    </tr>\n",
       "    <tr>\n",
       "      <td>42</td>\n",
       "      <td>0.980700</td>\n",
       "    </tr>\n",
       "    <tr>\n",
       "      <td>43</td>\n",
       "      <td>0.903900</td>\n",
       "    </tr>\n",
       "    <tr>\n",
       "      <td>44</td>\n",
       "      <td>0.941000</td>\n",
       "    </tr>\n",
       "    <tr>\n",
       "      <td>45</td>\n",
       "      <td>0.788800</td>\n",
       "    </tr>\n",
       "    <tr>\n",
       "      <td>46</td>\n",
       "      <td>0.759400</td>\n",
       "    </tr>\n",
       "    <tr>\n",
       "      <td>47</td>\n",
       "      <td>0.677800</td>\n",
       "    </tr>\n",
       "    <tr>\n",
       "      <td>48</td>\n",
       "      <td>0.804500</td>\n",
       "    </tr>\n",
       "    <tr>\n",
       "      <td>49</td>\n",
       "      <td>1.114400</td>\n",
       "    </tr>\n",
       "    <tr>\n",
       "      <td>50</td>\n",
       "      <td>0.812000</td>\n",
       "    </tr>\n",
       "    <tr>\n",
       "      <td>51</td>\n",
       "      <td>0.685200</td>\n",
       "    </tr>\n",
       "    <tr>\n",
       "      <td>52</td>\n",
       "      <td>0.861600</td>\n",
       "    </tr>\n",
       "    <tr>\n",
       "      <td>53</td>\n",
       "      <td>0.902300</td>\n",
       "    </tr>\n",
       "    <tr>\n",
       "      <td>54</td>\n",
       "      <td>0.770900</td>\n",
       "    </tr>\n",
       "    <tr>\n",
       "      <td>55</td>\n",
       "      <td>0.673100</td>\n",
       "    </tr>\n",
       "    <tr>\n",
       "      <td>56</td>\n",
       "      <td>0.845900</td>\n",
       "    </tr>\n",
       "    <tr>\n",
       "      <td>57</td>\n",
       "      <td>0.723700</td>\n",
       "    </tr>\n",
       "    <tr>\n",
       "      <td>58</td>\n",
       "      <td>0.669200</td>\n",
       "    </tr>\n",
       "    <tr>\n",
       "      <td>59</td>\n",
       "      <td>0.911900</td>\n",
       "    </tr>\n",
       "    <tr>\n",
       "      <td>60</td>\n",
       "      <td>0.760600</td>\n",
       "    </tr>\n",
       "  </tbody>\n",
       "</table><p>"
      ],
      "text/plain": [
       "<IPython.core.display.HTML object>"
      ]
     },
     "metadata": {},
     "output_type": "display_data"
    },
    {
     "data": {
      "text/plain": [
       "TrainOutput(global_step=60, training_loss=1.3305850823720295, metrics={'train_runtime': 125.4939, 'train_samples_per_second': 3.825, 'train_steps_per_second': 0.478, 'total_flos': 1416357866373120.0, 'train_loss': 1.3305850823720295, 'epoch': 0.9266409266409267})"
      ]
     },
     "execution_count": 5,
     "metadata": {},
     "output_type": "execute_result"
    }
   ],
   "source": [
    "from trl import SFTTrainer, SFTConfig\n",
    "from transformers import TrainingArguments\n",
    "\n",
    "trainer = SFTTrainer(  # supervised fine-tuning trainer\n",
    "    model = model,\n",
    "    train_dataset = dataset,\n",
    "    tokenizer = tokenizer,\n",
    "    dataset_text_field = 'text',\n",
    "    max_seq_length = 2048,\n",
    "    args = SFTConfig(\n",
    "        per_device_train_batch_size = 2,  # each GPU reads 2 tokenized sequences at once\n",
    "        gradient_accumulation_steps = 4,  # accumulate loss for 4 iterations before optimizer step -> effective batch 2 * 4 = 8\n",
    "        warmup_steps = 10,  # linearly \"climb\" to the learning rate from 0 in the first 10 steps\n",
    "        max_steps = 60,  # max steps before stopping (unless epochs out before that)\n",
    "        logging_steps = 1,  # log every single step\n",
    "        output_dir = \"outputs\",  # where to store checkpoints, logs etc.\n",
    "        optim = \"adamw_8bit\",  # 8-bit AdamW optimizer\n",
    "        num_train_epochs = 3  # number of epochs, unless we reach 60 steps first\n",
    "    ),\n",
    ")\n",
    "\n",
    "trainer.train()"
   ]
  },
  {
   "cell_type": "code",
   "execution_count": 6,
   "id": "2372899c-b877-4e96-acca-e2bbc4037894",
   "metadata": {},
   "outputs": [
    {
     "name": "stderr",
     "output_type": "stream",
     "text": [
      "The attention mask is not set and cannot be inferred from input because pad token is same as eos token. As a consequence, you may observe unexpected behavior. Please pass your input's `attention_mask` to obtain reliable results.\n"
     ]
    },
    {
     "name": "stdout",
     "output_type": "stream",
     "text": [
      "<|user|> What is the latest version of the kube-prometheus-stack helm chart?<|end|><|assistant|> {\"search_needed\": true}<|end|>\n"
     ]
    }
   ],
   "source": [
    "FastLanguageModel.for_inference(model)\n",
    "\n",
    "messages = [\n",
    "    {\n",
    "        \"role\": \"user\",\n",
    "        \"content\": \"What is the latest version of the kube-prometheus-stack helm chart?\"\n",
    "    },\n",
    "]\n",
    "\n",
    "# Turn messages to tensor and send to GPU\n",
    "inputs = tokenizer.apply_chat_template(messages, tokenize=True, add_generation_prompt=True, return_tensors=\"pt\").to(\"cuda\")\n",
    "\n",
    "# Generate model response with max 512 tokens and 0.7 temperature, smallest set of tokens with cumulative probability of >= 0.9 are kept for random sampling\n",
    "outputs = model.generate(input_ids=inputs, max_new_tokens=512, use_cache=True, temperature=0.7, do_sample=True, top_p=0.9)\n",
    "\n",
    "response = tokenizer.batch_decode(outputs)[0]\n",
    "\n",
    "print(response)"
   ]
  },
  {
   "cell_type": "code",
   "execution_count": 7,
   "id": "73a271a4-d521-46e3-a938-2f600fcb1645",
   "metadata": {},
   "outputs": [
    {
     "name": "stderr",
     "output_type": "stream",
     "text": [
      "Makefile:6: *** Build system changed:\n",
      " The Makefile build has been replaced by CMake.\n",
      "\n",
      " For build instructions see:\n",
      " https://github.com/ggml-org/llama.cpp/blob/master/docs/build.md\n",
      "\n",
      ".  Stop.\n"
     ]
    },
    {
     "name": "stdout",
     "output_type": "stream",
     "text": [
      "make: Entering directory '/home/fragsap/projects/joney-bot/training/llama.cpp'\n",
      "make: Leaving directory '/home/fragsap/projects/joney-bot/training/llama.cpp'\n",
      "-- The C compiler identification is GNU 15.2.1\n",
      "-- The CXX compiler identification is GNU 15.2.1\n",
      "-- Detecting C compiler ABI info\n",
      "-- Detecting C compiler ABI info - done\n",
      "-- Check for working C compiler: /sbin/cc - skipped\n",
      "-- Detecting C compile features\n",
      "-- Detecting C compile features - done\n",
      "-- Detecting CXX compiler ABI info\n",
      "-- Detecting CXX compiler ABI info - done\n",
      "-- Check for working CXX compiler: /sbin/c++ - skipped\n",
      "-- Detecting CXX compile features\n",
      "-- Detecting CXX compile features - done\n",
      "-- Found Git: /sbin/git (found version \"2.51.0\")\n",
      "-- The ASM compiler identification is GNU\n",
      "-- Found assembler: /sbin/cc\n",
      "-- Performing Test CMAKE_HAVE_LIBC_PTHREAD\n",
      "-- Performing Test CMAKE_HAVE_LIBC_PTHREAD - Success\n",
      "-- Found Threads: TRUE\n",
      "-- Warning: ccache not found - consider installing it for faster compilation or disable this warning with GGML_CCACHE=OFF\n",
      "-- CMAKE_SYSTEM_PROCESSOR: x86_64\n",
      "-- GGML_SYSTEM_ARCH: x86\n",
      "-- Including CPU backend\n"
     ]
    },
    {
     "name": "stderr",
     "output_type": "stream",
     "text": [
      "\u001b[0mCMAKE_BUILD_TYPE=Release\u001b[0m\n"
     ]
    },
    {
     "name": "stdout",
     "output_type": "stream",
     "text": [
      "-- Found OpenMP_C: -fopenmp (found version \"4.5\")\n",
      "-- Found OpenMP_CXX: -fopenmp (found version \"4.5\")\n",
      "-- Found OpenMP: TRUE (found version \"4.5\")\n",
      "-- x86 detected\n",
      "-- Adding CPU backend variant ggml-cpu: -march=native \n",
      "-- ggml version: 0.0.6469\n",
      "-- ggml commit:  a14bd350\n",
      "-- Found CURL: /usr/lib/libcurl.so (found version \"8.16.0\")\n",
      "-- Configuring done (1.1s)\n",
      "-- Generating done (0.2s)\n",
      "-- Build files have been written to: /home/fragsap/projects/joney-bot/training/llama.cpp/build\n",
      "Unsloth: Merging 4bit and LoRA weights to 16bit...\n",
      "Unsloth: Will use up to 8.37 out of 31.26 RAM for saving.\n",
      "Unsloth: Saving model... This might take 5 minutes ...\n"
     ]
    },
    {
     "name": "stderr",
     "output_type": "stream",
     "text": [
      " 34%|████████████████████████████████▋                                                              | 11/32 [00:00<00:00, 32.41it/s]\n",
      "We will save to Disk and not RAM now.\n",
      "100%|███████████████████████████████████████████████████████████████████████████████████████████████| 32/32 [00:06<00:00,  4.76it/s]\n"
     ]
    },
    {
     "name": "stdout",
     "output_type": "stream",
     "text": [
      "Unsloth: Saving tokenizer... Done.\n",
      "Done.\n"
     ]
    },
    {
     "name": "stderr",
     "output_type": "stream",
     "text": [
      "Unsloth: Converting mistral model. Can use fast conversion = True.\n"
     ]
    },
    {
     "name": "stdout",
     "output_type": "stream",
     "text": [
      "==((====))==  Unsloth: Conversion from QLoRA to GGUF information\n",
      "   \\\\   /|    [0] Installing llama.cpp might take 3 minutes.\n",
      "O^O/ \\_/ \\    [1] Converting HF to GGUF 16bits might take 3 minutes.\n",
      "\\        /    [2] Converting GGUF 16bits to ['q4_k_m'] might take 10 minutes each.\n",
      " \"-____-\"     In total, you will have to wait at least 16 minutes.\n",
      "\n",
      "Unsloth: Installing llama.cpp. This might take 3 minutes...\n",
      "Unsloth: CMAKE detected. Finalizing some steps for installation.\n",
      "Unsloth: [1] Converting model at intent_analysis into bf16 GGUF format.\n",
      "The output location will be /home/fragsap/projects/joney-bot/training/intent_analysis/unsloth.BF16.gguf\n",
      "This might take 3 minutes...\n"
     ]
    },
    {
     "ename": "TypeError",
     "evalue": "Descriptors cannot be created directly.\nIf this call came from a _pb2.py file, your generated code is out of date and must be regenerated with protoc >= 3.19.0.\nIf you cannot immediately regenerate your protos, some other possible workarounds are:\n 1. Downgrade the protobuf package to 3.20.x or lower.\n 2. Set PROTOCOL_BUFFERS_PYTHON_IMPLEMENTATION=python (but this will use pure-Python parsing and will be much slower).\n\nMore information: https://developers.google.com/protocol-buffers/docs/news/2022-05-06#python-updates",
     "output_type": "error",
     "traceback": [
      "\u001b[31m---------------------------------------------------------------------------\u001b[39m",
      "\u001b[31mTypeError\u001b[39m                                 Traceback (most recent call last)",
      "\u001b[36mCell\u001b[39m\u001b[36m \u001b[39m\u001b[32mIn[7]\u001b[39m\u001b[32m, line 1\u001b[39m\n\u001b[32m----> \u001b[39m\u001b[32m1\u001b[39m \u001b[43mmodel\u001b[49m\u001b[43m.\u001b[49m\u001b[43msave_pretrained_gguf\u001b[49m\u001b[43m(\u001b[49m\u001b[33;43m\"\u001b[39;49m\u001b[33;43mintent_analysis\u001b[39;49m\u001b[33;43m\"\u001b[39;49m\u001b[43m,\u001b[49m\u001b[43m \u001b[49m\u001b[43mtokenizer\u001b[49m\u001b[43m,\u001b[49m\u001b[43m \u001b[49m\u001b[43mquantization_method\u001b[49m\u001b[43m=\u001b[49m\u001b[33;43m\"\u001b[39;49m\u001b[33;43mq4_k_m\u001b[39;49m\u001b[33;43m\"\u001b[39;49m\u001b[43m,\u001b[49m\u001b[43m \u001b[49m\u001b[43mmaximum_memory_usage\u001b[49m\u001b[43m \u001b[49m\u001b[43m=\u001b[49m\u001b[43m \u001b[49m\u001b[32;43m0.5\u001b[39;49m\u001b[43m)\u001b[49m\n",
      "\u001b[36mFile \u001b[39m\u001b[32m~/projects/joney-bot/training/venv/lib/python3.13/site-packages/unsloth/save.py:1899\u001b[39m, in \u001b[36munsloth_save_pretrained_gguf\u001b[39m\u001b[34m(self, save_directory, tokenizer, quantization_method, first_conversion, push_to_hub, token, private, is_main_process, state_dict, save_function, max_shard_size, safe_serialization, variant, save_peft_format, tags, temporary_location, maximum_memory_usage)\u001b[39m\n\u001b[32m   1896\u001b[39m is_sentencepiece_model = check_if_sentencepiece_model(\u001b[38;5;28mself\u001b[39m)\n\u001b[32m   1898\u001b[39m \u001b[38;5;66;03m# Save to GGUF\u001b[39;00m\n\u001b[32m-> \u001b[39m\u001b[32m1899\u001b[39m all_file_locations, want_full_precision = \u001b[43msave_to_gguf\u001b[49m\u001b[43m(\u001b[49m\n\u001b[32m   1900\u001b[39m \u001b[43m    \u001b[49m\u001b[43mmodel_type\u001b[49m\u001b[43m,\u001b[49m\u001b[43m \u001b[49m\u001b[43mmodel_dtype\u001b[49m\u001b[43m,\u001b[49m\u001b[43m \u001b[49m\u001b[43mis_sentencepiece_model\u001b[49m\u001b[43m,\u001b[49m\n\u001b[32m   1901\u001b[39m \u001b[43m    \u001b[49m\u001b[43mnew_save_directory\u001b[49m\u001b[43m,\u001b[49m\u001b[43m \u001b[49m\u001b[43mquantization_method\u001b[49m\u001b[43m,\u001b[49m\u001b[43m \u001b[49m\u001b[43mfirst_conversion\u001b[49m\u001b[43m,\u001b[49m\u001b[43m \u001b[49m\u001b[43mmakefile\u001b[49m\u001b[43m,\u001b[49m\n\u001b[32m   1902\u001b[39m \u001b[43m\u001b[49m\u001b[43m)\u001b[49m\n\u001b[32m   1904\u001b[39m \u001b[38;5;66;03m# Save Ollama modelfile\u001b[39;00m\n\u001b[32m   1905\u001b[39m modelfile = create_ollama_modelfile(tokenizer, all_file_locations[\u001b[32m0\u001b[39m])\n",
      "\u001b[36mFile \u001b[39m\u001b[32m~/projects/joney-bot/training/venv/lib/python3.13/site-packages/unsloth/save.py:1187\u001b[39m, in \u001b[36msave_to_gguf\u001b[39m\u001b[34m(model_type, model_dtype, is_sentencepiece, model_directory, quantization_method, first_conversion, _run_installer)\u001b[39m\n\u001b[32m   1185\u001b[39m     vocab_type = \u001b[33m\"\u001b[39m\u001b[33mspm,hfft,bpe\u001b[39m\u001b[33m\"\u001b[39m\n\u001b[32m   1186\u001b[39m     \u001b[38;5;66;03m# Fix Sentencepiece model as well!\u001b[39;00m\n\u001b[32m-> \u001b[39m\u001b[32m1187\u001b[39m     \u001b[43mfix_sentencepiece_gguf\u001b[49m\u001b[43m(\u001b[49m\u001b[43mmodel_directory\u001b[49m\u001b[43m)\u001b[49m\n\u001b[32m   1188\u001b[39m \u001b[38;5;28;01melse\u001b[39;00m:\n\u001b[32m   1189\u001b[39m     vocab_type = \u001b[33m\"\u001b[39m\u001b[33mbpe\u001b[39m\u001b[33m\"\u001b[39m\n",
      "\u001b[36mFile \u001b[39m\u001b[32m~/projects/joney-bot/training/venv/lib/python3.13/site-packages/unsloth/tokenizer_utils.py:410\u001b[39m, in \u001b[36mfix_sentencepiece_gguf\u001b[39m\u001b[34m(saved_location)\u001b[39m\n\u001b[32m    404\u001b[39m \u001b[38;5;250m\u001b[39m\u001b[33;03m\"\"\"\u001b[39;00m\n\u001b[32m    405\u001b[39m \u001b[33;03m    Fixes sentencepiece tokenizers which did not extend the vocabulary with\u001b[39;00m\n\u001b[32m    406\u001b[39m \u001b[33;03m    user defined tokens.\u001b[39;00m\n\u001b[32m    407\u001b[39m \u001b[33;03m    Inspiration from https://github.com/ggerganov/llama.cpp/blob/master/convert_hf_to_gguf.py\u001b[39;00m\n\u001b[32m    408\u001b[39m \u001b[33;03m\"\"\"\u001b[39;00m\n\u001b[32m    409\u001b[39m \u001b[38;5;28;01mfrom\u001b[39;00m\u001b[38;5;250m \u001b[39m\u001b[34;01mcopy\u001b[39;00m\u001b[38;5;250m \u001b[39m\u001b[38;5;28;01mimport\u001b[39;00m deepcopy\n\u001b[32m--> \u001b[39m\u001b[32m410\u001b[39m \u001b[38;5;28;01mfrom\u001b[39;00m\u001b[38;5;250m \u001b[39m\u001b[34;01mtransformers\u001b[39;00m\u001b[34;01m.\u001b[39;00m\u001b[34;01mutils\u001b[39;00m\u001b[38;5;250m \u001b[39m\u001b[38;5;28;01mimport\u001b[39;00m sentencepiece_model_pb2\n\u001b[32m    411\u001b[39m \u001b[38;5;28;01mimport\u001b[39;00m\u001b[38;5;250m \u001b[39m\u001b[34;01mjson\u001b[39;00m\n\u001b[32m    412\u001b[39m \u001b[38;5;28;01mfrom\u001b[39;00m\u001b[38;5;250m \u001b[39m\u001b[34;01menum\u001b[39;00m\u001b[38;5;250m \u001b[39m\u001b[38;5;28;01mimport\u001b[39;00m IntEnum\n",
      "\u001b[36mFile \u001b[39m\u001b[32m~/projects/joney-bot/training/venv/lib/python3.13/site-packages/transformers/utils/sentencepiece_model_pb2.py:91\u001b[39m\n\u001b[32m     25\u001b[39m _sym_db = _symbol_database.Default()\n\u001b[32m     28\u001b[39m DESCRIPTOR = _descriptor.FileDescriptor(\n\u001b[32m     29\u001b[39m     name=\u001b[33m\"\u001b[39m\u001b[33msentencepiece_model.proto\u001b[39m\u001b[33m\"\u001b[39m,\n\u001b[32m     30\u001b[39m     package=\u001b[33m\"\u001b[39m\u001b[33msentencepiece\u001b[39m\u001b[33m\"\u001b[39m,\n\u001b[32m   (...)\u001b[39m\u001b[32m     80\u001b[39m     ),\n\u001b[32m     81\u001b[39m )\n\u001b[32m     84\u001b[39m _TRAINERSPEC_MODELTYPE = _descriptor.EnumDescriptor(\n\u001b[32m     85\u001b[39m     name=\u001b[33m\"\u001b[39m\u001b[33mModelType\u001b[39m\u001b[33m\"\u001b[39m,\n\u001b[32m     86\u001b[39m     full_name=\u001b[33m\"\u001b[39m\u001b[33msentencepiece.TrainerSpec.ModelType\u001b[39m\u001b[33m\"\u001b[39m,\n\u001b[32m     87\u001b[39m     filename=\u001b[38;5;28;01mNone\u001b[39;00m,\n\u001b[32m     88\u001b[39m     file=DESCRIPTOR,\n\u001b[32m     89\u001b[39m     create_key=_descriptor._internal_create_key,\n\u001b[32m     90\u001b[39m     values=[\n\u001b[32m---> \u001b[39m\u001b[32m91\u001b[39m         \u001b[43m_descriptor\u001b[49m\u001b[43m.\u001b[49m\u001b[43mEnumValueDescriptor\u001b[49m\u001b[43m(\u001b[49m\n\u001b[32m     92\u001b[39m \u001b[43m            \u001b[49m\u001b[43mname\u001b[49m\u001b[43m=\u001b[49m\u001b[33;43m\"\u001b[39;49m\u001b[33;43mUNIGRAM\u001b[39;49m\u001b[33;43m\"\u001b[39;49m\u001b[43m,\u001b[49m\n\u001b[32m     93\u001b[39m \u001b[43m            \u001b[49m\u001b[43mindex\u001b[49m\u001b[43m=\u001b[49m\u001b[32;43m0\u001b[39;49m\u001b[43m,\u001b[49m\n\u001b[32m     94\u001b[39m \u001b[43m            \u001b[49m\u001b[43mnumber\u001b[49m\u001b[43m=\u001b[49m\u001b[32;43m1\u001b[39;49m\u001b[43m,\u001b[49m\n\u001b[32m     95\u001b[39m \u001b[43m            \u001b[49m\u001b[43mserialized_options\u001b[49m\u001b[43m=\u001b[49m\u001b[38;5;28;43;01mNone\u001b[39;49;00m\u001b[43m,\u001b[49m\n\u001b[32m     96\u001b[39m \u001b[43m            \u001b[49m\u001b[38;5;28;43mtype\u001b[39;49m\u001b[43m=\u001b[49m\u001b[38;5;28;43;01mNone\u001b[39;49;00m\u001b[43m,\u001b[49m\n\u001b[32m     97\u001b[39m \u001b[43m            \u001b[49m\u001b[43mcreate_key\u001b[49m\u001b[43m=\u001b[49m\u001b[43m_descriptor\u001b[49m\u001b[43m.\u001b[49m\u001b[43m_internal_create_key\u001b[49m\u001b[43m,\u001b[49m\n\u001b[32m     98\u001b[39m \u001b[43m        \u001b[49m\u001b[43m)\u001b[49m,\n\u001b[32m     99\u001b[39m         _descriptor.EnumValueDescriptor(\n\u001b[32m    100\u001b[39m             name=\u001b[33m\"\u001b[39m\u001b[33mBPE\u001b[39m\u001b[33m\"\u001b[39m,\n\u001b[32m    101\u001b[39m             index=\u001b[32m1\u001b[39m,\n\u001b[32m    102\u001b[39m             number=\u001b[32m2\u001b[39m,\n\u001b[32m    103\u001b[39m             serialized_options=\u001b[38;5;28;01mNone\u001b[39;00m,\n\u001b[32m    104\u001b[39m             \u001b[38;5;28mtype\u001b[39m=\u001b[38;5;28;01mNone\u001b[39;00m,\n\u001b[32m    105\u001b[39m             create_key=_descriptor._internal_create_key,\n\u001b[32m    106\u001b[39m         ),\n\u001b[32m    107\u001b[39m         _descriptor.EnumValueDescriptor(\n\u001b[32m    108\u001b[39m             name=\u001b[33m\"\u001b[39m\u001b[33mWORD\u001b[39m\u001b[33m\"\u001b[39m,\n\u001b[32m    109\u001b[39m             index=\u001b[32m2\u001b[39m,\n\u001b[32m    110\u001b[39m             number=\u001b[32m3\u001b[39m,\n\u001b[32m    111\u001b[39m             serialized_options=\u001b[38;5;28;01mNone\u001b[39;00m,\n\u001b[32m    112\u001b[39m             \u001b[38;5;28mtype\u001b[39m=\u001b[38;5;28;01mNone\u001b[39;00m,\n\u001b[32m    113\u001b[39m             create_key=_descriptor._internal_create_key,\n\u001b[32m    114\u001b[39m         ),\n\u001b[32m    115\u001b[39m         _descriptor.EnumValueDescriptor(\n\u001b[32m    116\u001b[39m             name=\u001b[33m\"\u001b[39m\u001b[33mCHAR\u001b[39m\u001b[33m\"\u001b[39m,\n\u001b[32m    117\u001b[39m             index=\u001b[32m3\u001b[39m,\n\u001b[32m    118\u001b[39m             number=\u001b[32m4\u001b[39m,\n\u001b[32m    119\u001b[39m             serialized_options=\u001b[38;5;28;01mNone\u001b[39;00m,\n\u001b[32m    120\u001b[39m             \u001b[38;5;28mtype\u001b[39m=\u001b[38;5;28;01mNone\u001b[39;00m,\n\u001b[32m    121\u001b[39m             create_key=_descriptor._internal_create_key,\n\u001b[32m    122\u001b[39m         ),\n\u001b[32m    123\u001b[39m     ],\n\u001b[32m    124\u001b[39m     containing_type=\u001b[38;5;28;01mNone\u001b[39;00m,\n\u001b[32m    125\u001b[39m     serialized_options=\u001b[38;5;28;01mNone\u001b[39;00m,\n\u001b[32m    126\u001b[39m     serialized_start=\u001b[32m1294\u001b[39m,\n\u001b[32m    127\u001b[39m     serialized_end=\u001b[32m1347\u001b[39m,\n\u001b[32m    128\u001b[39m )\n\u001b[32m    129\u001b[39m _sym_db.RegisterEnumDescriptor(_TRAINERSPEC_MODELTYPE)\n\u001b[32m    131\u001b[39m _MODELPROTO_SENTENCEPIECE_TYPE = _descriptor.EnumDescriptor(\n\u001b[32m    132\u001b[39m     name=\u001b[33m\"\u001b[39m\u001b[33mType\u001b[39m\u001b[33m\"\u001b[39m,\n\u001b[32m    133\u001b[39m     full_name=\u001b[33m\"\u001b[39m\u001b[33msentencepiece.ModelProto.SentencePiece.Type\u001b[39m\u001b[33m\"\u001b[39m,\n\u001b[32m   (...)\u001b[39m\u001b[32m    190\u001b[39m     serialized_end=\u001b[32m2184\u001b[39m,\n\u001b[32m    191\u001b[39m )\n",
      "\u001b[36mFile \u001b[39m\u001b[32m~/projects/joney-bot/training/venv/lib/python3.13/site-packages/google/protobuf/descriptor.py:1038\u001b[39m, in \u001b[36mEnumValueDescriptor.__new__\u001b[39m\u001b[34m(cls, name, index, number, type, options, serialized_options, create_key)\u001b[39m\n\u001b[32m   1028\u001b[39m \u001b[38;5;28;01mdef\u001b[39;00m\u001b[38;5;250m \u001b[39m\u001b[34m__new__\u001b[39m(\n\u001b[32m   1029\u001b[39m     \u001b[38;5;28mcls\u001b[39m,\n\u001b[32m   1030\u001b[39m     name,\n\u001b[32m   (...)\u001b[39m\u001b[32m   1036\u001b[39m     create_key=\u001b[38;5;28;01mNone\u001b[39;00m,\n\u001b[32m   1037\u001b[39m ):\n\u001b[32m-> \u001b[39m\u001b[32m1038\u001b[39m   \u001b[43m_message\u001b[49m\u001b[43m.\u001b[49m\u001b[43mMessage\u001b[49m\u001b[43m.\u001b[49m\u001b[43m_CheckCalledFromGeneratedFile\u001b[49m\u001b[43m(\u001b[49m\u001b[43m)\u001b[49m\n\u001b[32m   1039\u001b[39m   \u001b[38;5;66;03m# There is no way we can build a complete EnumValueDescriptor with the\u001b[39;00m\n\u001b[32m   1040\u001b[39m   \u001b[38;5;66;03m# given parameters (the name of the Enum is not known, for example).\u001b[39;00m\n\u001b[32m   1041\u001b[39m   \u001b[38;5;66;03m# Fortunately generated files just pass it to the EnumDescriptor()\u001b[39;00m\n\u001b[32m   1042\u001b[39m   \u001b[38;5;66;03m# constructor, which will ignore it, so returning None is good enough.\u001b[39;00m\n\u001b[32m   1043\u001b[39m   \u001b[38;5;28;01mreturn\u001b[39;00m \u001b[38;5;28;01mNone\u001b[39;00m\n",
      "\u001b[31mTypeError\u001b[39m: Descriptors cannot be created directly.\nIf this call came from a _pb2.py file, your generated code is out of date and must be regenerated with protoc >= 3.19.0.\nIf you cannot immediately regenerate your protos, some other possible workarounds are:\n 1. Downgrade the protobuf package to 3.20.x or lower.\n 2. Set PROTOCOL_BUFFERS_PYTHON_IMPLEMENTATION=python (but this will use pure-Python parsing and will be much slower).\n\nMore information: https://developers.google.com/protocol-buffers/docs/news/2022-05-06#python-updates"
     ]
    }
   ],
   "source": [
    "model.save_pretrained_gguf(\"intent_analysis\", tokenizer, quantization_method=\"q4_k_m\", maximum_memory_usage = 0.5)"
   ]
  }
 ],
 "metadata": {
  "kernelspec": {
   "display_name": "Python 3 (ipykernel)",
   "language": "python",
   "name": "python3"
  },
  "language_info": {
   "codemirror_mode": {
    "name": "ipython",
    "version": 3
   },
   "file_extension": ".py",
   "mimetype": "text/x-python",
   "name": "python",
   "nbconvert_exporter": "python",
   "pygments_lexer": "ipython3",
   "version": "3.13.7"
  }
 },
 "nbformat": 4,
 "nbformat_minor": 5
}
